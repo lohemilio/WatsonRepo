{
    "cells": [
        {
            "metadata": {},
            "cell_type": "markdown",
            "source": "### Essay Analysis "
        },
        {
            "metadata": {},
            "cell_type": "code",
            "source": "\nimport types\nimport pandas as pd\nfrom botocore.client import Config\nimport ibm_boto3\n\ndef __iter__(self): return 0\n\n# @hidden_cell\n# The following code accesses a file in your IBM Cloud Object Storage. It includes your credentials.\n# You might want to remove those credentials before you share the notebook.\nclient_8ed6d5144e994f688047d14e0191424c = ibm_boto3.client(service_name='s3',\n    ibm_api_key_id='cbWuyrPD0S1tMsJxRN3QEXFkECm1AkPaijSlukLn8meI',\n    ibm_auth_endpoint=\"https://iam.ng.bluemix.net/oidc/token\",\n    config=Config(signature_version='oauth'),\n    endpoint_url='https://s3-api.us-geo.objectstorage.service.networklayer.com')\n\nbody = client_8ed6d5144e994f688047d14e0191424c.get_object(Bucket='testproject-donotdelete-pr-rxzkuqzrueushk',Key='essayConcat.xlsx')['Body']\n# add missing __iter__ method, so pandas accepts body as file-like object\nif not hasattr(body, \"__iter__\"): body.__iter__ = types.MethodType( __iter__, body )\n\ndf_data_0 = pd.read_excel(body)\ndf_data_0.head()\n",
            "execution_count": 1,
            "outputs": [
                {
                    "output_type": "execute_result",
                    "execution_count": 1,
                    "data": {
                        "text/plain": "     X1     ARROBA        N00    TERM  \\\n0  9398  @03183694  N00645047  201813   \n1   895  @02548142  N00638635  201813   \n2  3546  @02840940  N00597655  201813   \n3  2815  @02829415  N00591191  201813   \n4   390  @02459560  N00556452  201813   \n\n                                         EXPERIENCIA  \\\n0  Cuando cumpl\u00ed 15 a\u00f1os estaba ansiosa por conoc...   \n1  Considero que el baloncesto es la experiencia ...   \n2  Aunque durante toda mi vida escolar he trabaja...   \n3  Experiencia de vidaMi colegio, el Instituto Cu...   \n4  'Un cuerpo peque\u00f1o de esp\u00edritu determinado enc...   \n\n                                               METAS P1  \\\n0  Me veo en un futuro como una profesionista exi...  b   \n1  Considero que puedo aportar a la comunidad est...  d   \n2  Quiero ser Ingeniero Mecatronico porque quiero...  b   \n3  CompromisoDesde que comenc\u00e9 mi vida estudianti...  c   \n4  'Vive como si fueras a morir ma\u00f1ana, aprende c...  b   \n\n                                          DEPORTIVAS DEPORTIVAS_ACTU P2  ...  \\\n0  Soy parte del equipo de futbol en mi escuela I...               S  b  ...   \n1  He obtenido varios logros en el baloncesto gra...               S  a  ...   \n2  En el Instituto Cumbres Piedras Negras he part...               S  b  ...   \n3  He participado en 2 Torneos de la Amistad, com...               S  a  ...   \n4  En mi transcurso de la primer en el nivel depo...               S  b  ...   \n\n        %Beca               Ingl\u00e9s DIng3y4 DIng5y6 DLengExt DTEC       FTE  \\\n0   60.000000    Lengua extranjera       0       0        1    0  1.153846   \n1  100.000000  Ingl\u00e9s remedial III       1       0        0    0  0.846154   \n2   15.000989      Sin informaci\u00f3n       0       0        0    0  0.692308   \n3   59.999829      Sin informaci\u00f3n       0       0        0    0  1.000000   \n4   20.000863   Ingl\u00e9s remedial IV       1       0        0    0  1.000000   \n\n  Ensayo Curriculo                                        essayConcat  \n0     25        15  Cuando cumpl\u00ed 15 a\u00f1os estaba ansiosa por conoc...  \n1     19        25  Considero que el baloncesto es la experiencia ...  \n2     15        15  Aunque durante toda mi vida escolar he trabaja...  \n3     25        25  Experiencia de vidaMi colegio, el Instituto Cu...  \n4      6        15  'Un cuerpo peque\u00f1o de esp\u00edritu determinado enc...  \n\n[5 rows x 88 columns]",
                        "text/html": "<div>\n<style scoped>\n    .dataframe tbody tr th:only-of-type {\n        vertical-align: middle;\n    }\n\n    .dataframe tbody tr th {\n        vertical-align: top;\n    }\n\n    .dataframe thead th {\n        text-align: right;\n    }\n</style>\n<table border=\"1\" class=\"dataframe\">\n  <thead>\n    <tr style=\"text-align: right;\">\n      <th></th>\n      <th>X1</th>\n      <th>ARROBA</th>\n      <th>N00</th>\n      <th>TERM</th>\n      <th>EXPERIENCIA</th>\n      <th>METAS</th>\n      <th>P1</th>\n      <th>DEPORTIVAS</th>\n      <th>DEPORTIVAS_ACTU</th>\n      <th>P2</th>\n      <th>...</th>\n      <th>%Beca</th>\n      <th>Ingl\u00e9s</th>\n      <th>DIng3y4</th>\n      <th>DIng5y6</th>\n      <th>DLengExt</th>\n      <th>DTEC</th>\n      <th>FTE</th>\n      <th>Ensayo</th>\n      <th>Curriculo</th>\n      <th>essayConcat</th>\n    </tr>\n  </thead>\n  <tbody>\n    <tr>\n      <th>0</th>\n      <td>9398</td>\n      <td>@03183694</td>\n      <td>N00645047</td>\n      <td>201813</td>\n      <td>Cuando cumpl\u00ed 15 a\u00f1os estaba ansiosa por conoc...</td>\n      <td>Me veo en un futuro como una profesionista exi...</td>\n      <td>b</td>\n      <td>Soy parte del equipo de futbol en mi escuela I...</td>\n      <td>S</td>\n      <td>b</td>\n      <td>...</td>\n      <td>60.000000</td>\n      <td>Lengua extranjera</td>\n      <td>0</td>\n      <td>0</td>\n      <td>1</td>\n      <td>0</td>\n      <td>1.153846</td>\n      <td>25</td>\n      <td>15</td>\n      <td>Cuando cumpl\u00ed 15 a\u00f1os estaba ansiosa por conoc...</td>\n    </tr>\n    <tr>\n      <th>1</th>\n      <td>895</td>\n      <td>@02548142</td>\n      <td>N00638635</td>\n      <td>201813</td>\n      <td>Considero que el baloncesto es la experiencia ...</td>\n      <td>Considero que puedo aportar a la comunidad est...</td>\n      <td>d</td>\n      <td>He obtenido varios logros en el baloncesto gra...</td>\n      <td>S</td>\n      <td>a</td>\n      <td>...</td>\n      <td>100.000000</td>\n      <td>Ingl\u00e9s remedial III</td>\n      <td>1</td>\n      <td>0</td>\n      <td>0</td>\n      <td>0</td>\n      <td>0.846154</td>\n      <td>19</td>\n      <td>25</td>\n      <td>Considero que el baloncesto es la experiencia ...</td>\n    </tr>\n    <tr>\n      <th>2</th>\n      <td>3546</td>\n      <td>@02840940</td>\n      <td>N00597655</td>\n      <td>201813</td>\n      <td>Aunque durante toda mi vida escolar he trabaja...</td>\n      <td>Quiero ser Ingeniero Mecatronico porque quiero...</td>\n      <td>b</td>\n      <td>En el Instituto Cumbres Piedras Negras he part...</td>\n      <td>S</td>\n      <td>b</td>\n      <td>...</td>\n      <td>15.000989</td>\n      <td>Sin informaci\u00f3n</td>\n      <td>0</td>\n      <td>0</td>\n      <td>0</td>\n      <td>0</td>\n      <td>0.692308</td>\n      <td>15</td>\n      <td>15</td>\n      <td>Aunque durante toda mi vida escolar he trabaja...</td>\n    </tr>\n    <tr>\n      <th>3</th>\n      <td>2815</td>\n      <td>@02829415</td>\n      <td>N00591191</td>\n      <td>201813</td>\n      <td>Experiencia de vidaMi colegio, el Instituto Cu...</td>\n      <td>CompromisoDesde que comenc\u00e9 mi vida estudianti...</td>\n      <td>c</td>\n      <td>He participado en 2 Torneos de la Amistad, com...</td>\n      <td>S</td>\n      <td>a</td>\n      <td>...</td>\n      <td>59.999829</td>\n      <td>Sin informaci\u00f3n</td>\n      <td>0</td>\n      <td>0</td>\n      <td>0</td>\n      <td>0</td>\n      <td>1.000000</td>\n      <td>25</td>\n      <td>25</td>\n      <td>Experiencia de vidaMi colegio, el Instituto Cu...</td>\n    </tr>\n    <tr>\n      <th>4</th>\n      <td>390</td>\n      <td>@02459560</td>\n      <td>N00556452</td>\n      <td>201813</td>\n      <td>'Un cuerpo peque\u00f1o de esp\u00edritu determinado enc...</td>\n      <td>'Vive como si fueras a morir ma\u00f1ana, aprende c...</td>\n      <td>b</td>\n      <td>En mi transcurso de la primer en el nivel depo...</td>\n      <td>S</td>\n      <td>b</td>\n      <td>...</td>\n      <td>20.000863</td>\n      <td>Ingl\u00e9s remedial IV</td>\n      <td>1</td>\n      <td>0</td>\n      <td>0</td>\n      <td>0</td>\n      <td>1.000000</td>\n      <td>6</td>\n      <td>15</td>\n      <td>'Un cuerpo peque\u00f1o de esp\u00edritu determinado enc...</td>\n    </tr>\n  </tbody>\n</table>\n<p>5 rows \u00d7 88 columns</p>\n</div>"
                    },
                    "metadata": {}
                }
            ]
        }
    ],
    "metadata": {
        "kernelspec": {
            "name": "python3",
            "display_name": "Python 3.6",
            "language": "python"
        },
        "language_info": {
            "name": "python",
            "version": "3.6.8",
            "mimetype": "text/x-python",
            "codemirror_mode": {
                "name": "ipython",
                "version": 3
            },
            "pygments_lexer": "ipython3",
            "nbconvert_exporter": "python",
            "file_extension": ".py"
        }
    },
    "nbformat": 4,
    "nbformat_minor": 1
}